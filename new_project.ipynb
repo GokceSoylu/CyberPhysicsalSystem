{
 "cells": [
  {
   "cell_type": "code",
   "execution_count": 1,
   "metadata": {},
   "outputs": [
    {
     "name": "stdout",
     "output_type": "stream",
     "text": [
      "Defaulting to user installation because normal site-packages is not writeable\n",
      "\u001b[33mWARNING: Retrying (Retry(total=4, connect=None, read=None, redirect=None, status=None)) after connection broken by 'NewConnectionError('<pip._vendor.urllib3.connection.HTTPSConnection object at 0x1023866d0>: Failed to establish a new connection: [Errno 8] nodename nor servname provided, or not known')': /simple/adafruit-circuitpython-hid/\u001b[0m\u001b[33m\n",
      "\u001b[0m\u001b[33mWARNING: Retrying (Retry(total=3, connect=None, read=None, redirect=None, status=None)) after connection broken by 'NewConnectionError('<pip._vendor.urllib3.connection.HTTPSConnection object at 0x1023868b0>: Failed to establish a new connection: [Errno 8] nodename nor servname provided, or not known')': /simple/adafruit-circuitpython-hid/\u001b[0m\u001b[33m\n",
      "\u001b[0mCollecting adafruit-circuitpython-hid\n",
      "  Downloading adafruit_circuitpython_hid-6.1.4-py3-none-any.whl.metadata (6.2 kB)\n",
      "Collecting Adafruit-Blinka (from adafruit-circuitpython-hid)\n",
      "  Downloading Adafruit_Blinka-8.50.0-py3-none-any.whl.metadata (5.5 kB)\n",
      "Collecting Adafruit-PlatformDetect>=3.70.1 (from Adafruit-Blinka->adafruit-circuitpython-hid)\n",
      "  Downloading Adafruit_PlatformDetect-3.75.0-py3-none-any.whl.metadata (3.8 kB)\n",
      "Collecting Adafruit-PureIO>=1.1.7 (from Adafruit-Blinka->adafruit-circuitpython-hid)\n",
      "  Downloading Adafruit_PureIO-1.1.11-py3-none-any.whl.metadata (3.0 kB)\n",
      "Collecting binho-host-adapter>=0.1.6 (from Adafruit-Blinka->adafruit-circuitpython-hid)\n",
      "  Downloading binho_host_adapter-0.1.6-py3-none-any.whl.metadata (2.0 kB)\n",
      "Collecting pyftdi>=0.40.0 (from Adafruit-Blinka->adafruit-circuitpython-hid)\n",
      "  Downloading pyftdi-0.56.0-py3-none-any.whl.metadata (3.2 kB)\n",
      "Collecting adafruit-circuitpython-typing (from Adafruit-Blinka->adafruit-circuitpython-hid)\n",
      "  Downloading adafruit_circuitpython_typing-1.11.2-py3-none-any.whl.metadata (3.2 kB)\n",
      "Collecting pyserial (from binho-host-adapter>=0.1.6->Adafruit-Blinka->adafruit-circuitpython-hid)\n",
      "  Downloading pyserial-3.5-py2.py3-none-any.whl.metadata (1.6 kB)\n",
      "Collecting pyusb!=1.2.0,>=1.0.0 (from pyftdi>=0.40.0->Adafruit-Blinka->adafruit-circuitpython-hid)\n",
      "  Downloading pyusb-1.2.1-py3-none-any.whl.metadata (2.2 kB)\n",
      "Collecting adafruit-circuitpython-busdevice (from adafruit-circuitpython-typing->Adafruit-Blinka->adafruit-circuitpython-hid)\n",
      "  Downloading adafruit_circuitpython_busdevice-5.2.10-py3-none-any.whl.metadata (4.0 kB)\n",
      "Collecting adafruit-circuitpython-requests (from adafruit-circuitpython-typing->Adafruit-Blinka->adafruit-circuitpython-hid)\n",
      "  Downloading adafruit_circuitpython_requests-4.1.8-py3-none-any.whl.metadata (3.6 kB)\n",
      "Requirement already satisfied: typing_extensions~=4.0 in /Users/gokcesoylu/Library/Python/3.9/lib/python/site-packages (from adafruit-circuitpython-typing->Adafruit-Blinka->adafruit-circuitpython-hid) (4.12.2)\n",
      "Collecting Adafruit-Circuitpython-ConnectionManager (from adafruit-circuitpython-requests->adafruit-circuitpython-typing->Adafruit-Blinka->adafruit-circuitpython-hid)\n",
      "  Downloading adafruit_circuitpython_connectionmanager-3.1.2-py3-none-any.whl.metadata (4.5 kB)\n",
      "Downloading adafruit_circuitpython_hid-6.1.4-py3-none-any.whl (18 kB)\n",
      "Downloading Adafruit_Blinka-8.50.0-py3-none-any.whl (364 kB)\n",
      "Downloading Adafruit_PlatformDetect-3.75.0-py3-none-any.whl (25 kB)\n",
      "Downloading Adafruit_PureIO-1.1.11-py3-none-any.whl (10 kB)\n",
      "Downloading binho_host_adapter-0.1.6-py3-none-any.whl (10 kB)\n",
      "Downloading pyftdi-0.56.0-py3-none-any.whl (145 kB)\n",
      "Downloading adafruit_circuitpython_typing-1.11.2-py3-none-any.whl (11 kB)\n",
      "Downloading pyserial-3.5-py2.py3-none-any.whl (90 kB)\n",
      "Downloading pyusb-1.2.1-py3-none-any.whl (58 kB)\n",
      "Downloading adafruit_circuitpython_busdevice-5.2.10-py3-none-any.whl (7.5 kB)\n",
      "Downloading adafruit_circuitpython_requests-4.1.8-py3-none-any.whl (10 kB)\n",
      "Downloading adafruit_circuitpython_connectionmanager-3.1.2-py3-none-any.whl (7.8 kB)\n",
      "Installing collected packages: pyserial, Adafruit-PlatformDetect, pyusb, binho-host-adapter, Adafruit-PureIO, pyftdi, Adafruit-Circuitpython-ConnectionManager, adafruit-circuitpython-requests, adafruit-circuitpython-busdevice, adafruit-circuitpython-typing, Adafruit-Blinka, adafruit-circuitpython-hid\n",
      "Successfully installed Adafruit-Blinka-8.50.0 Adafruit-Circuitpython-ConnectionManager-3.1.2 Adafruit-PlatformDetect-3.75.0 Adafruit-PureIO-1.1.11 adafruit-circuitpython-busdevice-5.2.10 adafruit-circuitpython-hid-6.1.4 adafruit-circuitpython-requests-4.1.8 adafruit-circuitpython-typing-1.11.2 binho-host-adapter-0.1.6 pyftdi-0.56.0 pyserial-3.5 pyusb-1.2.1\n",
      "\n",
      "\u001b[1m[\u001b[0m\u001b[34;49mnotice\u001b[0m\u001b[1;39;49m]\u001b[0m\u001b[39;49m A new release of pip is available: \u001b[0m\u001b[31;49m24.2\u001b[0m\u001b[39;49m -> \u001b[0m\u001b[32;49m24.3.1\u001b[0m\n",
      "\u001b[1m[\u001b[0m\u001b[34;49mnotice\u001b[0m\u001b[1;39;49m]\u001b[0m\u001b[39;49m To update, run: \u001b[0m\u001b[32;49m/Library/Developer/CommandLineTools/usr/bin/python3 -m pip install --upgrade pip\u001b[0m\n",
      "Note: you may need to restart the kernel to use updated packages.\n"
     ]
    }
   ],
   "source": [
    "pip install adafruit-circuitpython-hid\n"
   ]
  },
  {
   "cell_type": "code",
   "execution_count": 11,
   "metadata": {},
   "outputs": [
    {
     "ename": "ModuleNotFoundError",
     "evalue": "No module named 'machine'",
     "output_type": "error",
     "traceback": [
      "\u001b[0;31m---------------------------------------------------------------------------\u001b[0m",
      "\u001b[0;31mModuleNotFoundError\u001b[0m                       Traceback (most recent call last)",
      "Cell \u001b[0;32mIn[11], line 1\u001b[0m\n\u001b[0;32m----> 1\u001b[0m \u001b[38;5;28;01mfrom\u001b[39;00m \u001b[38;5;21;01mmachine\u001b[39;00m \u001b[38;5;28;01mimport\u001b[39;00m Pin\n\u001b[1;32m      2\u001b[0m \u001b[38;5;28;01mfrom\u001b[39;00m \u001b[38;5;21;01mtime\u001b[39;00m \u001b[38;5;28;01mimport\u001b[39;00m sleep\n\u001b[1;32m      3\u001b[0m \u001b[38;5;28;01mfrom\u001b[39;00m \u001b[38;5;21;01mble_hid\u001b[39;00m \u001b[38;5;28;01mimport\u001b[39;00m BLEHID\n",
      "\u001b[0;31mModuleNotFoundError\u001b[0m: No module named 'machine'"
     ]
    }
   ],
   "source": [
    "from machine import Pin\n",
    "from time import sleep\n",
    "from ble_hid import BLEHID\n",
    "from hid_services import HIDService\n",
    "\n",
    "# GPIO pinleri tanımla\n",
    "button_1 = Pin(14, Pin.IN, Pin.PULL_UP)  # Sol tıklama\n",
    "button_2 = Pin(27, Pin.IN, Pin.PULL_UP)  # Sağ tıklama\n",
    "\n",
    "# BLE HID servisini başlat\n",
    "ble_hid = BLEHID(\"ESP32 HID Device\")  # Cihaz adı\n",
    "\n",
    "def send_input():\n",
    "    \"\"\"Kullanıcı girdisini BLE üzerinden gönder.\"\"\"\n",
    "    while True:\n",
    "        if not button_1.value():  # Sol tıklama\n",
    "            ble_hid.send_mouse_input(left_click=True)\n",
    "            print(\"Left click sent!\")\n",
    "        if not button_2.value():  # Sağ tıklama\n",
    "            ble_hid.send_mouse_input(right_click=True)\n",
    "            print(\"Right click sent!\")\n",
    "        sleep(0.1)\n",
    "\n",
    "def main():\n",
    "    print(\"Starting BLE HID Device...\")\n",
    "    ble_hid.start()\n",
    "    try:\n",
    "        send_input()\n",
    "    except KeyboardInterrupt:\n",
    "        print(\"Stopping BLE HID Device...\")\n",
    "        ble_hid.stop()\n",
    "\n",
    "if __name__ == \"__main__\":\n",
    "    main()\n"
   ]
  },
  {
   "cell_type": "code",
   "execution_count": 3,
   "metadata": {},
   "outputs": [
    {
     "ename": "SyntaxError",
     "evalue": "invalid syntax (1386293421.py, line 1)",
     "output_type": "error",
     "traceback": [
      "\u001b[0;36m  Cell \u001b[0;32mIn[3], line 1\u001b[0;36m\u001b[0m\n\u001b[0;31m    $ git clone -b v5.2.2 --recursive https://github.com/espressif/esp-idf.git\u001b[0m\n\u001b[0m    ^\u001b[0m\n\u001b[0;31mSyntaxError\u001b[0m\u001b[0;31m:\u001b[0m invalid syntax\n"
     ]
    }
   ],
   "source": [
    "$ git clone -b v5.2.2 --recursive https://github.com/espressif/esp-idf.git"
   ]
  },
  {
   "cell_type": "code",
   "execution_count": 6,
   "metadata": {},
   "outputs": [
    {
     "ename": "SyntaxError",
     "evalue": "invalid syntax (2740551112.py, line 1)",
     "output_type": "error",
     "traceback": [
      "\u001b[0;36m  Cell \u001b[0;32mIn[6], line 1\u001b[0;36m\u001b[0m\n\u001b[0;31m    pip install adafruit-ampy\u001b[0m\n\u001b[0m        ^\u001b[0m\n\u001b[0;31mSyntaxError\u001b[0m\u001b[0;31m:\u001b[0m invalid syntax\n"
     ]
    }
   ],
   "source": [
    "pip install adafruit-ampy\n",
    "#ampy --port /dev/ttyUSB0 put your_code.py\n"
   ]
  },
  {
   "cell_type": "code",
   "execution_count": 7,
   "metadata": {},
   "outputs": [
    {
     "name": "stdout",
     "output_type": "stream",
     "text": [
      "Defaulting to user installation because normal site-packages is not writeable\n",
      "Collecting adafruit-ampy\n",
      "  Downloading adafruit_ampy-1.1.0-py2.py3-none-any.whl.metadata (5.2 kB)\n",
      "Requirement already satisfied: click in /Users/gokcesoylu/Library/Python/3.9/lib/python/site-packages (from adafruit-ampy) (8.1.7)\n",
      "Requirement already satisfied: pyserial in /Users/gokcesoylu/Library/Python/3.9/lib/python/site-packages (from adafruit-ampy) (3.5)\n",
      "Collecting python-dotenv (from adafruit-ampy)\n",
      "  Downloading python_dotenv-1.0.1-py3-none-any.whl.metadata (23 kB)\n",
      "Downloading adafruit_ampy-1.1.0-py2.py3-none-any.whl (16 kB)\n",
      "Downloading python_dotenv-1.0.1-py3-none-any.whl (19 kB)\n",
      "Installing collected packages: python-dotenv, adafruit-ampy\n",
      "Successfully installed adafruit-ampy-1.1.0 python-dotenv-1.0.1\n",
      "\n",
      "\u001b[1m[\u001b[0m\u001b[34;49mnotice\u001b[0m\u001b[1;39;49m]\u001b[0m\u001b[39;49m A new release of pip is available: \u001b[0m\u001b[31;49m24.2\u001b[0m\u001b[39;49m -> \u001b[0m\u001b[32;49m24.3.1\u001b[0m\n",
      "\u001b[1m[\u001b[0m\u001b[34;49mnotice\u001b[0m\u001b[1;39;49m]\u001b[0m\u001b[39;49m To update, run: \u001b[0m\u001b[32;49m/Library/Developer/CommandLineTools/usr/bin/python3 -m pip install --upgrade pip\u001b[0m\n",
      "Note: you may need to restart the kernel to use updated packages.\n"
     ]
    }
   ],
   "source": [
    "pip install adafruit-ampy"
   ]
  },
  {
   "cell_type": "code",
   "execution_count": 9,
   "metadata": {},
   "outputs": [
    {
     "ename": "NameError",
     "evalue": "name 'ampy' is not defined",
     "output_type": "error",
     "traceback": [
      "\u001b[0;31m---------------------------------------------------------------------------\u001b[0m",
      "\u001b[0;31mNameError\u001b[0m                                 Traceback (most recent call last)",
      "Cell \u001b[0;32mIn[9], line 1\u001b[0m\n\u001b[0;32m----> 1\u001b[0m \u001b[43mampy\u001b[49m \u001b[38;5;241m-\u001b[39m\u001b[38;5;241m-\u001b[39mport \u001b[38;5;241m/\u001b[39mdev\u001b[38;5;241m/\u001b[39mttyUSB0\n",
      "\u001b[0;31mNameError\u001b[0m: name 'ampy' is not defined"
     ]
    }
   ],
   "source": [
    "ampy --port /dev/ttyUSB0"
   ]
  },
  {
   "cell_type": "code",
   "execution_count": 10,
   "metadata": {},
   "outputs": [
    {
     "ename": "NameError",
     "evalue": "name 'ampy' is not defined",
     "output_type": "error",
     "traceback": [
      "\u001b[0;31m---------------------------------------------------------------------------\u001b[0m",
      "\u001b[0;31mNameError\u001b[0m                                 Traceback (most recent call last)",
      "Cell \u001b[0;32mIn[10], line 1\u001b[0m\n\u001b[0;32m----> 1\u001b[0m \u001b[43mampy\u001b[49m \u001b[38;5;241m-\u001b[39m\u001b[38;5;241m-\u001b[39mport \u001b[38;5;241m/\u001b[39mdev\u001b[38;5;241m/\u001b[39mttyUSB0 \n",
      "\u001b[0;31mNameError\u001b[0m: name 'ampy' is not defined"
     ]
    }
   ],
   "source": [
    "ampy --port /dev/ttyUSB0 "
   ]
  },
  {
   "cell_type": "code",
   "execution_count": 13,
   "metadata": {},
   "outputs": [
    {
     "name": "stdout",
     "output_type": "stream",
     "text": [
      "Defaulting to user installation because normal site-packages is not writeable\n",
      "Collecting esptool\n",
      "  Downloading esptool-4.8.1.tar.gz (409 kB)\n",
      "  Installing build dependencies ... \u001b[?25ldone\n",
      "\u001b[?25h  Getting requirements to build wheel ... \u001b[?25ldone\n",
      "\u001b[?25h  Preparing metadata (pyproject.toml) ... \u001b[?25ldone\n",
      "\u001b[?25hCollecting bitstring!=4.2.0,>=3.1.6 (from esptool)\n",
      "  Downloading bitstring-4.2.3-py3-none-any.whl.metadata (5.0 kB)\n",
      "Collecting cryptography>=2.1.4 (from esptool)\n",
      "  Using cached cryptography-44.0.0-cp39-abi3-macosx_10_9_universal2.whl.metadata (5.7 kB)\n",
      "Collecting ecdsa>=0.16.0 (from esptool)\n",
      "  Downloading ecdsa-0.19.0-py2.py3-none-any.whl.metadata (29 kB)\n",
      "Requirement already satisfied: pyserial>=3.3 in /Users/gokcesoylu/Library/Python/3.9/lib/python/site-packages (from esptool) (3.5)\n",
      "Collecting reedsolo<1.8,>=1.5.3 (from esptool)\n",
      "  Downloading reedsolo-1.7.0-py3-none-any.whl.metadata (23 kB)\n",
      "Requirement already satisfied: PyYAML>=5.1 in /Users/gokcesoylu/Library/Python/3.9/lib/python/site-packages (from esptool) (6.0.2)\n",
      "Collecting intelhex (from esptool)\n",
      "  Downloading intelhex-2.3.0-py2.py3-none-any.whl.metadata (2.7 kB)\n",
      "Collecting argcomplete>=3 (from esptool)\n",
      "  Downloading argcomplete-3.5.2-py3-none-any.whl.metadata (16 kB)\n",
      "Collecting bitarray<3.0.0,>=2.9.0 (from bitstring!=4.2.0,>=3.1.6->esptool)\n",
      "  Downloading bitarray-2.9.3-cp39-cp39-macosx_11_0_arm64.whl.metadata (34 kB)\n",
      "Requirement already satisfied: cffi>=1.12 in /Users/gokcesoylu/Library/Python/3.9/lib/python/site-packages (from cryptography>=2.1.4->esptool) (1.17.1)\n",
      "Requirement already satisfied: six>=1.9.0 in /Library/Developer/CommandLineTools/Library/Frameworks/Python3.framework/Versions/3.9/lib/python3.9/site-packages (from ecdsa>=0.16.0->esptool) (1.15.0)\n",
      "Requirement already satisfied: pycparser in /Users/gokcesoylu/Library/Python/3.9/lib/python/site-packages (from cffi>=1.12->cryptography>=2.1.4->esptool) (2.22)\n",
      "Downloading argcomplete-3.5.2-py3-none-any.whl (43 kB)\n",
      "Downloading bitstring-4.2.3-py3-none-any.whl (71 kB)\n",
      "Using cached cryptography-44.0.0-cp39-abi3-macosx_10_9_universal2.whl (6.5 MB)\n",
      "Downloading ecdsa-0.19.0-py2.py3-none-any.whl (149 kB)\n",
      "Downloading reedsolo-1.7.0-py3-none-any.whl (32 kB)\n",
      "Downloading intelhex-2.3.0-py2.py3-none-any.whl (50 kB)\n",
      "Downloading bitarray-2.9.3-cp39-cp39-macosx_11_0_arm64.whl (125 kB)\n",
      "Building wheels for collected packages: esptool\n",
      "  Building wheel for esptool (pyproject.toml) ... \u001b[?25ldone\n",
      "\u001b[?25h  Created wheel for esptool: filename=esptool-4.8.1-py3-none-any.whl size=534233 sha256=3620ba3534f11616f4c05636064b0a086c69b84a579e912780659218dd457c92\n",
      "  Stored in directory: /Users/gokcesoylu/Library/Caches/pip/wheels/f3/9f/d5/7fa247308e9461f7f02b5c750217f179c3b98874ba19f5fd00\n",
      "Successfully built esptool\n",
      "Installing collected packages: reedsolo, intelhex, bitarray, ecdsa, bitstring, argcomplete, cryptography, esptool\n",
      "Successfully installed argcomplete-3.5.2 bitarray-2.9.3 bitstring-4.2.3 cryptography-44.0.0 ecdsa-0.19.0 esptool-4.8.1 intelhex-2.3.0 reedsolo-1.7.0\n",
      "\n",
      "\u001b[1m[\u001b[0m\u001b[34;49mnotice\u001b[0m\u001b[1;39;49m]\u001b[0m\u001b[39;49m A new release of pip is available: \u001b[0m\u001b[31;49m24.2\u001b[0m\u001b[39;49m -> \u001b[0m\u001b[32;49m24.3.1\u001b[0m\n",
      "\u001b[1m[\u001b[0m\u001b[34;49mnotice\u001b[0m\u001b[1;39;49m]\u001b[0m\u001b[39;49m To update, run: \u001b[0m\u001b[32;49m/Library/Developer/CommandLineTools/usr/bin/python3 -m pip install --upgrade pip\u001b[0m\n",
      "Note: you may need to restart the kernel to use updated packages.\n"
     ]
    }
   ],
   "source": [
    "pip install esptool\n"
   ]
  },
  {
   "cell_type": "code",
   "execution_count": null,
   "metadata": {},
   "outputs": [],
   "source": []
  }
 ],
 "metadata": {
  "kernelspec": {
   "display_name": "Python 3",
   "language": "python",
   "name": "python3"
  },
  "language_info": {
   "codemirror_mode": {
    "name": "ipython",
    "version": 3
   },
   "file_extension": ".py",
   "mimetype": "text/x-python",
   "name": "python",
   "nbconvert_exporter": "python",
   "pygments_lexer": "ipython3",
   "version": "3.9.6"
  }
 },
 "nbformat": 4,
 "nbformat_minor": 2
}
